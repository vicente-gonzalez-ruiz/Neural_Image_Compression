{
  "nbformat": 4,
  "nbformat_minor": 0,
  "metadata": {
    "kernelspec": {
      "name": "python3",
      "display_name": "Python 3",
      "language": "python"
    },
    "language_info": {
      "name": "python",
      "version": "3.7.6",
      "mimetype": "text/x-python",
      "codemirror_mode": {
        "name": "ipython",
        "version": 3
      },
      "pygments_lexer": "ipython3",
      "nbconvert_exporter": "python",
      "file_extension": ".py"
    },
    "colab": {
      "name": "Untitled.ipynb",
      "provenance": [],
      "include_colab_link": true
    }
  },
  "cells": [
    {
      "cell_type": "markdown",
      "metadata": {
        "id": "view-in-github",
        "colab_type": "text"
      },
      "source": [
        "<a href=\"https://colab.research.google.com/github/vicente-gonzalez-ruiz/Neural_Image_Compression/blob/master/Untitled.ipynb\" target=\"_parent\"><img src=\"https://colab.research.google.com/assets/colab-badge.svg\" alt=\"Open In Colab\"/></a>"
      ]
    },
    {
      "cell_type": "markdown",
      "metadata": {
        "id": "YUgTS3eYTgUg",
        "colab_type": "text"
      },
      "source": [
        "[![Open In Colab](https://colab.research.google.com/assets/colab-badge.svg)](https://colab.research.google.com/github/vicente-gonzalez-ruiz/Neural_Image_Compression/blob/master/Untitled.ipynb)\n"
      ]
    },
    {
      "cell_type": "markdown",
      "metadata": {
        "id": "mwKv3_HKqJy9",
        "colab_type": "text"
      },
      "source": [
        "# Total $L_2$ loss\n",
        "\n",
        "\\begin{equation}\n",
        "  L_2 = \\sum_{X,Y}\\in D(Y-p(X))^2\n",
        "\\end{equation}\n",
        "\n",
        "where $X$ is a set of features of the training data set $D$ (which must contain labeled examples, as pairs $(X,Y)$), $Y$ is the ideal output of the system (a label or a set of continuous values), and $p(X)$ is the prediction of the system (the system infers). Notice that $p(\\cdot)$ is a actually a function of the weights, the bias, and $X$."
      ]
    },
    {
      "cell_type": "markdown",
      "metadata": {
        "id": "AXvEyg-RrfKm",
        "colab_type": "text"
      },
      "source": [
        "# Average $L_2$ loss\n",
        "\n",
        "\\begin{equation}\n",
        "  \\overline{L_2} = \\frac{L_2}{||D||},\n",
        "\\end{equation}\n",
        "\n",
        "where $||D||$ is the number of examples in $D$. $\\overline{L_2}$ is also called MSE (Mean Square Error)."
      ]
    },
    {
      "cell_type": "markdown",
      "metadata": {
        "id": "D8UuZsKls0fq",
        "colab_type": "text"
      },
      "source": [
        "# (1D) Linear regression\n",
        "\n",
        "## Considering only one feature\n",
        "\n",
        "\\begin{equation}\n",
        "  p(X) = Y' = b + W_1X_1\n",
        "\\end{equation}\n",
        "\n",
        "where $b$ is the bias, and $X_1$ is the weight of feature $X_1$.\n",
        "\n",
        "## Considering several features\n",
        "\n",
        "\\begin{equation}\n",
        "  Y' = b + \\sum_{i=1}^n W_iX_i\n",
        "\\end{equation}\n"
      ]
    },
    {
      "cell_type": "markdown",
      "metadata": {
        "id": "61mdoM6kR5px",
        "colab_type": "text"
      },
      "source": [
        "# Cost function\n",
        "The cost function of an autoencoder image compression system is defined by\n",
        "\n",
        "\\begin{equation}\n",
        "  \\min_{\\theta_1,\\theta_2}\\frac{1}{n}\\sum_{i=1}^n||{\\cal D}(\\theta_2, {\\cal E}(\\theta_1, x^i))-x^i||^2,\n",
        "\\end{equation}\n",
        "\n",
        "where ${\\cal E}(\\cdot)$ is the encoder's output with parameters $\\theta_1$ that compress an image $x^i$, $n$ is the number of images, ${\\cal D}(\\cdot)$ is the decoder's output with parameters $\\theta_2$."
      ]
    },
    {
      "cell_type": "code",
      "metadata": {
        "trusted": true,
        "id": "Ty2c9k7NR5pz",
        "colab_type": "code",
        "colab": {}
      },
      "source": [
        ""
      ],
      "execution_count": 0,
      "outputs": []
    }
  ]
}